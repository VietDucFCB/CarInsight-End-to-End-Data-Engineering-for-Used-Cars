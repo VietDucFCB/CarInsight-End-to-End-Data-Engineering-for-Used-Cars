{
 "cells": [
  {
   "cell_type": "code",
   "id": "initial_id",
   "metadata": {
    "collapsed": true,
    "ExecuteTime": {
     "end_time": "2025-03-10T03:22:04.539207Z",
     "start_time": "2025-03-10T03:21:59.484194Z"
    }
   },
   "source": [
    "from pyspark.sql import SparkSession\n",
    "\n",
    "# Khởi tạo Spark Session\n",
    "spark = SparkSession.builder \\\n",
    "    .appName(\"ETL Debug\") \\\n",
    "    .config(\"spark.hadoop.fs.defaultFS\", \"hdfs://localhost:9000\") \\\n",
    "    .config(\"spark.jars.packages\", \"org.postgresql:postgresql:42.2.23\") \\\n",
    "    .getOrCreate()"
   ],
   "outputs": [],
   "execution_count": 1
  },
  {
   "metadata": {
    "ExecuteTime": {
     "end_time": "2025-03-10T03:26:35.484790Z",
     "start_time": "2025-03-10T03:26:35.385347Z"
    }
   },
   "cell_type": "code",
   "source": [
    "# Đường dẫn HDFS\n",
    "#df = spark.read.json(\"hdfs://localhost:9000/data_lake/raw/cars/year_2025/month_03/day_02/5_9.json\")\n",
    "df = spark.read.option(\"multiline\", True).json(\"hdfs://localhost:9000/data_lake/raw/cars/year_2025/month_03/day_02/5_9.json\")\n",
    "print(df)"
   ],
   "id": "cbf26be8ba632f64",
   "outputs": [
    {
     "name": "stdout",
     "output_type": "stream",
     "text": [
      "DataFrame[Cash Price: string, Drivetrain: string, Engine: string, Exterior: string, Features: string, Finance Details: string, Finance Price: string, Fuel Type: string, Interior: string, Listed Since: string, Location: string, MPG: string, Mileage: string, Stock Number: string, Title: string, Transmission: string, VIN: string]\n"
     ]
    }
   ],
   "execution_count": 5
  },
  {
   "metadata": {},
   "cell_type": "code",
   "outputs": [],
   "execution_count": null,
   "source": "",
   "id": "3c510d2e70f28e1e"
  }
 ],
 "metadata": {
  "kernelspec": {
   "display_name": "Python 3",
   "language": "python",
   "name": "python3"
  },
  "language_info": {
   "codemirror_mode": {
    "name": "ipython",
    "version": 2
   },
   "file_extension": ".py",
   "mimetype": "text/x-python",
   "name": "python",
   "nbconvert_exporter": "python",
   "pygments_lexer": "ipython2",
   "version": "2.7.6"
  }
 },
 "nbformat": 4,
 "nbformat_minor": 5
}
